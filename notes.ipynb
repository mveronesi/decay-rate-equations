{
 "cells": [
  {
   "cell_type": "code",
   "execution_count": 1,
   "metadata": {
    "scrolled": false
   },
   "outputs": [
    {
     "data": {
      "text/html": [
       "<style>.container { width:100% !important; }</style>"
      ],
      "text/plain": [
       "<IPython.core.display.HTML object>"
      ]
     },
     "metadata": {},
     "output_type": "display_data"
    }
   ],
   "source": [
    "from IPython.display import display\n",
    "from IPython.core.display import display, HTML\n",
    "display(HTML(\"<style>.container { width:100% !important; }</style>\"))\n",
    "from declare_dec import wbox_dec, decrate_pars\n",
    "from declare_acc import wbox_acc, acc_pars\n",
    "from declare_res import wbox_res, res_pars\n",
    "from declare_ft import wbox_tag, tag_pars\n",
    "from declare_asym import wbox_asymm, asymm_pars\n",
    "from declare_coeffs import wbox_coeffs, coeffs_pars"
   ]
  },
  {
   "cell_type": "markdown",
   "metadata": {},
   "source": [
    "## Decay Rate Equations\n",
    "\n",
    "Using the definitions for the mixing frequency $\\Delta m_s=M_{H}-M_{L} $, decay widths difference $\\Delta \\Gamma_{s}=\\Gamma_{L}-\\Gamma_{H}>0$ and average decay width $\\Gamma_{s}=(\\Gamma_{L}+\\Gamma_{H})/2$, the decay rate equations have the following expression:\n",
    "\n",
    "\\begin{align*}\n",
    "\\frac{d\\Gamma}{dt} (B_s^0\\to f) & \\sim e^{-\\Gamma_s t} \\Bigg[\n",
    "\\cosh\\Bigg(\\frac{\\Delta\\Gamma_s t}{2}\\Bigg) + A^{\\Delta\\Gamma}_f\\sinh\\Bigg(\\frac{\\Delta\\Gamma_s t}{2}\\Bigg)\n",
    "+C_f\\cos(\\Delta m_s t) - S_f \\sin(\\Delta m_s t) \\Bigg] \\\\\n",
    "\\frac{d\\Gamma}{dt} (\\overline{B}_s^0\\to f) & \\sim e^{-\\Gamma_s t} \\Bigg[\n",
    "\\cosh\\Bigg(\\frac{\\Delta\\Gamma_s t}{2}\\Bigg) + A^{\\Delta\\Gamma}_f\\sinh\\Bigg(\\frac{\\Delta\\Gamma_s t}{2}\\Bigg)\n",
    "-C_f\\cos(\\Delta m_s t) + S_f \\sin(\\Delta m_s t) \\Bigg] \\\\\n",
    "\\frac{d\\Gamma}{dt} (B_s^0\\to \\overline{f}) & \\sim e^{-\\Gamma_s t} \\Bigg[\n",
    "\\cosh\\Bigg(\\frac{\\Delta\\Gamma_s t}{2}\\Bigg) + A^{\\Delta\\Gamma}_{\\overline{f}}\\sinh\\Bigg(\\frac{\\Delta\\Gamma_s t}{2}\\Bigg)\n",
    "+C_{\\overline{f}}\\cos(\\Delta m_s t) - S_{\\overline{f}} \\sin(\\Delta m_s t) \\Bigg] \\\\\n",
    "\\frac{d\\Gamma}{dt} (\\overline{B}_s^0\\to \\overline{f}) & \\sim e^{-\\Gamma_s t} \\Bigg[\n",
    "\\cosh\\Bigg(\\frac{\\Delta\\Gamma_s t}{2}\\Bigg) + A^{\\Delta\\Gamma}_{\\overline{f}}\\sinh\\Bigg(\\frac{\\Delta\\Gamma_s t}{2}\\Bigg)\n",
    "-C_{\\overline{f}}\\cos(\\Delta m_s t) + S_{\\overline{f}} \\sin(\\Delta m_s t) \\Bigg]\n",
    "\\end{align*}\n",
    "\n",
    "where the decay rate coefficients are defined as:\n",
    "\n",
    "\\begin{align}\n",
    "C_f & = \\frac{1-r_{D_sK}^2}{1+r_{D_sK}^2}, \\qquad\n",
    "& S_f & = \\frac{2r_{D_sK}k\\sin(\\delta -(\\gamma-2\\beta_s))}{1+r_{D_sK}^2}, \\qquad\n",
    "& A^{\\Delta\\Gamma}_f & = \\frac{-2r_{D_sK}k\\cos(\\delta -(\\gamma-2\\beta_s))}{1+r_{D_sK}^2}, \\\\\n",
    "C_{\\overline{f}} & = -C_{f}, \\qquad\n",
    "& S_{\\overline{f}} & = \\frac{-2r_{D_sK}k\\sin(\\delta +(\\gamma-2\\beta_s))}{1+r_{D_sK}^2}, \\qquad\n",
    "& A^{\\Delta\\Gamma}_{\\overline{f}} & = \\frac{-2r_{D_sK}k\\cos(\\delta +(\\gamma-2 \\beta_s))}{1+r_{D_sK}^2}\n",
    "\\end{align}\n",
    "\n",
    "where $r  = |\\overline{A}_{f} / A_{f}| = |A_{\\overline{f}}/\\overline{A}_{\\overline{f}}|$ is the amplitude ratio between the suppressed and the favoured decay modes, $\\delta$  and $\\gamma$ are the strong and weak phase differences between the suppressed and the favoured decay amplitudes, $\\beta_{s}$ is the weak phase from $B^0_s-\\overline{B}^0_s$ mixing and $k$ is the coherence factor, which is 1 for two body decays. The mixing asymmetries are defined as:\n",
    "\n",
    "\\begin{align*}\n",
    "A_{\\text{mix},\\, f} (t) & =\n",
    "\\frac{\n",
    "\\frac{d\\Gamma}{dt}(B^0_s\\to f) - \\frac{d\\Gamma}{dt}(\\overline{B}^0_s\\to f)}{\n",
    "\\frac{d\\Gamma}{dt}(B^0_s\\to f) + \\frac{d\\Gamma}{dt}(\\overline{B}^0_s\\to f)} \n",
    "= \\frac{C_{f}\\cos(\\Delta m_s t)-S_{f}\\sin(\\Delta m_s t)}{\n",
    "\\cosh(\\frac{\\Delta\\Gamma_s t}{2})+A^{\\Delta\\Gamma}_f\\sinh(\\frac{\\Delta\\Gamma_s t}{2})} \\\\\n",
    "A_{\\text{mix},\\, \\overline{f}} (t) & =\n",
    "\\frac{\n",
    "\\frac{d\\Gamma}{dt}(\\overline{B}^0_s\\to \\overline{f}) - \\frac{d\\Gamma}{dt}(B^0_s\\to \\overline{f})}{\n",
    "\\frac{d\\Gamma}{dt}(\\overline{B}^0_s\\to \\overline{f}) + \\frac{d\\Gamma}{dt}(B^0_s\\to \\overline{f})} \n",
    "= \\frac{-C_{\\overline{f}}\\cos(\\Delta m_s t)+S_{\\overline{f}}\\sin(\\Delta m_s t)}{\n",
    "\\cosh(\\frac{\\Delta\\Gamma_s t}{2})+A^{\\Delta\\Gamma}_{\\overline{f}}\\sinh(\\frac{\\Delta\\Gamma_s t}{2})}\n",
    "\\end{align*}\n",
    "\n",
    "The decay rate equations can be expressed in compact form as:\n",
    "\n",
    "\\begin{align}\n",
    "\\frac{d\\Gamma}{dt} (q_t,q_f) \\sim e^{-\\Gamma_s t} \\Bigg[\n",
    "\\cosh\\Bigg(\\frac{\\Delta\\Gamma_s t}{2}\\Bigg) + A^{\\Delta\\Gamma}_{q_f}\\sinh\\Bigg(\\frac{\\Delta\\Gamma_s t}{2}\\Bigg)\n",
    "+q_tC_{q_f}\\cos(\\Delta m_s t) - q_tS_{q_f} \\sin(\\Delta m_s t) \\Bigg]\n",
    "\\end{align}\n",
    "\n",
    "with coefficients:\n",
    "\n",
    "\\begin{align}\n",
    "C_{q_f} = q_f\\frac{1-r_{D_sK}^2}{1+r_{D_sK}^2}, \\qquad\n",
    "S_{q_f} = q_f\\frac{2r_{D_sK}k\\sin(\\delta -q_f(\\gamma-2\\beta_s))}{1+r_{D_sK}^2}, \\qquad\n",
    "A^{\\Delta\\Gamma}_{q_f} = \\frac{-2r_{D_sK}k\\cos(\\delta -q_f(\\gamma-2\\beta_s))}{1+r_{D_sK}^2}\n",
    "\\end{align}\n",
    "\n",
    "where $q_t=\\{+1,-1\\}$ for $B^0$ and $\\overline{B}^0$ inital states and $q_f=+1,-1$ for final states $f$ and $\\overline{f}$."
   ]
  },
  {
   "cell_type": "code",
   "execution_count": 2,
   "metadata": {},
   "outputs": [
    {
     "data": {
      "application/vnd.jupyter.widget-view+json": {
       "model_id": "b2b65d6dfdf04e85a9e6ffb20e1619e4",
       "version_major": 2,
       "version_minor": 0
      },
      "text/plain": [
       "HBox(children=(VBox(children=(BoundedFloatText(value=0.6608, description='$\\\\Gamma_{s}$ [ps$^{-1}$]', max=1.0,…"
      ]
     },
     "metadata": {},
     "output_type": "display_data"
    },
    {
     "data": {
      "application/vnd.jupyter.widget-view+json": {
       "model_id": "c85e84e0eaa74a55851cb568c4481b3b",
       "version_major": 2,
       "version_minor": 0
      },
      "text/plain": [
       "Output()"
      ]
     },
     "metadata": {},
     "output_type": "display_data"
    }
   ],
   "source": [
    "display(wbox_dec,decrate_pars)"
   ]
  },
  {
   "cell_type": "markdown",
   "metadata": {},
   "source": [
    "# Decay Time Acceptance\n",
    "\n",
    "The time dependent reconstruction efficiency is parametrized as:\n",
    "\n",
    "\\begin{equation}\n",
    "\\varepsilon(t) = \\left[ 1 - \\frac{1}{1+(at)^n-b}\\right](1-\\beta t)\n",
    "\\end{equation}\n",
    "\n",
    "for decay times $t>t_{cut}$ and $t>(at)^n-b$, where $t_{cut}$ is the minimum lifetime required to discard prompt decays, $a$, $n$ and $b$ parametrize the shape of the turn-on curve at low decay times, while $\\beta$ parametrizes the slope of the acceptance shape at high decay times, in order to model the inefficiencies due to the $r$-$\\phi$ geometry of the velo."
   ]
  },
  {
   "cell_type": "code",
   "execution_count": 3,
   "metadata": {
    "scrolled": false
   },
   "outputs": [
    {
     "data": {
      "application/vnd.jupyter.widget-view+json": {
       "model_id": "4a2603807bb248e99fcfacd46b0716f0",
       "version_major": 2,
       "version_minor": 0
      },
      "text/plain": [
       "HBox(children=(VBox(children=(BoundedFloatText(value=1.5, description='$a$', step=0.01), BoundedFloatText(valu…"
      ]
     },
     "metadata": {},
     "output_type": "display_data"
    },
    {
     "data": {
      "application/vnd.jupyter.widget-view+json": {
       "model_id": "9a94e2cef0084f76abd90bcac9d01e9b",
       "version_major": 2,
       "version_minor": 0
      },
      "text/plain": [
       "Output()"
      ]
     },
     "metadata": {},
     "output_type": "display_data"
    }
   ],
   "source": [
    "display(wbox_acc,acc_pars)"
   ]
  },
  {
   "cell_type": "markdown",
   "metadata": {},
   "source": [
    "# Decay Time Resolution\n",
    "\n",
    "The effect of the finite detector resolution $G(t)$ on the measured lifetime distribution $P^{obs}(t)$ is a convolution with the true distribution $P^{true}(t)$:\n",
    "\n",
    "\\begin{equation}\n",
    "P^{obs}(t^{obs}) = (P^{true}\\otimes G)(t^{obs})=  \\int_{0}^{+\\infty}P^{true}(t^{true})G(t^{obs}-t^{true};\\sigma_t)dt^{true}\n",
    "\\end{equation}\n",
    "\n",
    "For a gaussian resolution function $G(t;\\sigma_t)$, the effect on the coefficients $C_f$ and $S_f$ in front of the $\\sin(\\Delta m_st)$ and $\\cos(\\Delta m_st)$ terms in the decay rate equations, and therefore on the mixing asymmetries, is a dilution of a factor $\\mathcal{D}=\\exp(-\\sigma_t^2\\Delta m_s^2/2)$."
   ]
  },
  {
   "cell_type": "code",
   "execution_count": 5,
   "metadata": {
    "scrolled": false
   },
   "outputs": [
    {
     "data": {
      "application/vnd.jupyter.widget-view+json": {
       "model_id": "8c1fdac2a713452dba66365e08ead732",
       "version_major": 2,
       "version_minor": 0
      },
      "text/plain": [
       "HBox(children=(VBox(children=(BoundedFloatText(value=0.045, description='$\\\\sigma_{t}$ [ps]', max=1.0, step=0.…"
      ]
     },
     "metadata": {},
     "output_type": "display_data"
    },
    {
     "data": {
      "application/vnd.jupyter.widget-view+json": {
       "model_id": "25bc27523c2e4339a7044523da698e09",
       "version_major": 2,
       "version_minor": 0
      },
      "text/plain": [
       "Output(outputs=({'output_type': 'display_data', 'data': {'text/plain': '<Figure size 2160x720 with 3 Axes>', '…"
      ]
     },
     "metadata": {},
     "output_type": "display_data"
    }
   ],
   "source": [
    "display(wbox_res,res_pars)"
   ]
  },
  {
   "cell_type": "markdown",
   "metadata": {},
   "source": [
    "# Flavour Tagging\n",
    "\n",
    "The effect of a misidentification (or \"wrong tag\") of the $B^0_s$ flavour at production on the observed decay rates for tagged events is:\n",
    "\n",
    "\\begin{align}\n",
    "\\frac{d\\Gamma}{dt} (B_s^0\\to f)^{tag}  & = \\varepsilon_{tag,B^{0}} \\Big\\{\n",
    "(1-\\omega_{tag,B^{0}})\\frac{d\\Gamma}{dt} (B_s^0\\to f)\n",
    "+ \\omega_{tag,B^{0}}\\,\\frac{d\\Gamma}{dt} (\\overline{B}_s^0\\to f) \\Big\\} \\\\\n",
    "\\frac{d\\Gamma}{dt} (\\overline{B}_s^0\\to f)^{tag} & = \\varepsilon_{tag,\\overline{B}^{0}} \\Big\\{\n",
    "(1- \\omega_{tag,\\overline{B}^{0}})\\frac{d\\Gamma}{dt} (\\overline{B}_s^0\\to f)\n",
    "+ \\omega_{tag,\\overline{B}^{0}} \\, \\frac{d\\Gamma}{dt} (B_s^0\\to f) \\Big\\} \\\\\n",
    "\\frac{d\\Gamma}{dt} (B_s^0\\to \\overline{f})^{tag}  & = \\varepsilon_{tag,B^{0}} \\Big\\{\n",
    "(1-\\omega_{tag,B^{0}})\\frac{d\\Gamma}{dt} (B_s^0\\to \\overline{f})\n",
    "+ \\omega_{tag,B^{0}}\\,\\frac{d\\Gamma}{dt} (\\overline{B}_s^0\\to \\overline{f}) \\Big\\} \\\\\n",
    "\\frac{d\\Gamma}{dt} (\\overline{B}_s^0\\to \\overline{f})^{tag} & = \\varepsilon_{tag,\\overline{B}^{0}} \\Big\\{\n",
    "(1- \\omega_{tag,\\overline{B}^{0}})\\frac{d\\Gamma}{dt} (\\overline{B}_s^0\\to \\overline{f})\n",
    "+ \\omega_{tag,\\overline{B}^{0}} \\, \\frac{d\\Gamma}{dt} (B_s^0\\to \\overline{f})\\Big\\} \\\\\n",
    "\\end{align}\n",
    "\n",
    "while, for untagged:\n",
    "\n",
    "\\begin{align}\n",
    "\\frac{d\\Gamma}{dt} (\\to f)^{untag} & = \\Big\\{  \\frac{1}{2}(1-\\varepsilon_{tag,B^{0}})\\frac{d\\Gamma}{dt} (B_s^0\\to f)\n",
    "+  \\frac{1}{2}(1-\\varepsilon_{tag,\\overline{B}^{0}})\\frac{d\\Gamma}{dt} (\\overline{B}_s^0\\to f) \\Big\\} \\\\\n",
    "\\frac{d\\Gamma}{dt} (\\to \\overline{f})^{untag} & = \\Big\\{  \\frac{1}{2}(1-\\varepsilon_{tag,B^{0}})\\frac{d\\Gamma}{dt} (B_s^0\\to \\overline{f})\n",
    "+  \\frac{1}{2}(1-\\varepsilon_{tag,\\overline{B}^{0}})\\frac{d\\Gamma}{dt} (\\overline{B}_s^0\\to \\overline{f}) \\Big\\}\n",
    "\\end{align}\n",
    "\n",
    "where the tagging efficiencies and mistag probabilities for $B^0_s$ and $\\overline{B}^0_s$ are defined as\n",
    "\n",
    "\\begin{align}\n",
    "\\varepsilon_{tag,B^0} & = \\varepsilon_{tag}+\\frac{\\Delta\\varepsilon}{2}, \\qquad\n",
    "& \\varepsilon_{tag,\\overline{B}^0} = & \\varepsilon_{tag}-\\frac{\\Delta\\varepsilon}{2}, \\\\\n",
    "\\omega_{tag,B^0} & = \\omega_{tag}+\\frac{\\Delta\\omega}{2}, \\qquad\n",
    "& \\omega_{tag,\\overline{B}^0} = & \\omega_{tag}-\\frac{\\Delta\\omega}{2}\n",
    "\\end{align}\n",
    "\n",
    "and $\\varepsilon_{tag}$ and $\\omega_{tag}$ are the average tagging efficiencies and mistag probabilities, while $\\Delta \\varepsilon_{tag}$ and $\\Delta\\omega_{tag}$ are the tagging efficiency and mistag asymmetries. \n",
    "\n",
    "The effect of the flavour tagging on observed the decay rates can be written in compact for as:\n",
    "\n",
    "\\begin{align}\n",
    "\\frac{d\\Gamma}{dt} (q_t,q_f)^{tag}  & = \\varepsilon_{tag,q_t}\\Big\\{\n",
    "(1-\\omega_{tag,q_t})\\frac{d\\Gamma}{dt} (q_t,q_f)\n",
    "+ \\omega_{tag,q_t}\\,\\frac{d\\Gamma}{dt} (-q_t,q_f) \\Big\\} \\\\\n",
    "\\frac{d\\Gamma}{dt} (0,q_f)^{untag} &= \\sum_{q_t=+1,-1}  \\frac{1}{2}\\Big\\{(1-\\varepsilon_{tag,q_t})\\frac{d\\Gamma}{dt} (q_t,q_f) \\Big\\}\n",
    "\\end{align}\n",
    "\n",
    "where $q_t=\\{+1,0,-1\\}$ for $B^0$ tagged, untagged and $\\overline{B}^0$ tagged events and $q_f=+1,-1$ for final states $f$ and $\\overline{f}$, and the tagging efficiencies and mistag probabilities can be written as:\n",
    "\n",
    "\\begin{align}\n",
    "\\varepsilon_{tag,B^0} & = \\varepsilon_{tag}+q_t\\frac{\\Delta\\varepsilon_{tag}}{2} \\\\\n",
    "\\omega_{tag,B^0} & = \\omega_{tag}+q_t\\frac{\\Delta\\omega_{tag}}{2}\n",
    "\\end{align}"
   ]
  },
  {
   "cell_type": "code",
   "execution_count": 5,
   "metadata": {
    "scrolled": false
   },
   "outputs": [
    {
     "data": {
      "application/vnd.jupyter.widget-view+json": {
       "model_id": "899f229ab5d3476ba74650732d0f8e3f",
       "version_major": 2,
       "version_minor": 0
      },
      "text/plain": [
       "HBox(children=(VBox(children=(BoundedFloatText(value=0.35, description='$\\\\omega_{tag}$', max=0.5, step=0.01),…"
      ]
     },
     "metadata": {},
     "output_type": "display_data"
    },
    {
     "data": {
      "application/vnd.jupyter.widget-view+json": {
       "model_id": "c61d7c53ff0b4103a633e0713bf6d794",
       "version_major": 2,
       "version_minor": 0
      },
      "text/plain": [
       "Output(outputs=({'output_type': 'display_data', 'data': {'text/plain': '<Figure size 2160x720 with 3 Axes>', '…"
      ]
     },
     "metadata": {},
     "output_type": "display_data"
    }
   ],
   "source": [
    "display(wbox_tag,tag_pars)"
   ]
  },
  {
   "cell_type": "markdown",
   "metadata": {},
   "source": [
    "# Production and Detection Asymmetries\n",
    "\n",
    "The production and detection asymmetries are defined as:\n",
    "\n",
    "\\begin{equation}\n",
    "a_{\\text{prod}} = \\frac{\\sigma_{prod}(\\overline{B}^0_s)-\\sigma_{prod}(B^0_s)}{\\sigma_{prod}(\\overline{B}^0_s)+\\sigma_{prod}(B^0_s)}, \\qquad\n",
    "a_{\\text{det}} = \\frac{\\varepsilon_{det}(\\overline{f})-\\varepsilon_{det}(f)}{\\varepsilon_{det}(\\overline{f})+\\varepsilon_{det}(f)}\n",
    "\\end{equation}\n",
    "\n",
    "where $\\sigma_{prod}$ is the production cross section and $\\varepsilon_{det}$ is the detection efficiency due to the underlying nuclear interaction cross section with the detector material. The expression for the tagged decay rates therefore becomes:\n",
    "\n",
    "\\begin{align}\n",
    "\\frac{d\\Gamma}{dt} (q_t,q_f)^{tag}  = \\varepsilon_{tag,q_t}\\Big\\{\n",
    "(1-\\omega_{tag,q_t})(1-q_ta_{prod})\\frac{d\\Gamma}{dt} (q_t,q_f)\n",
    "+ \\omega_{tag,q_t}(1+q_ta_{prod})\\frac{d\\Gamma}{dt} (-q_t,q_f) \\Big\\} (1-q_fa_{det})\n",
    "\\end{align}\n",
    "\n",
    "while for the untagged:\n",
    "\n",
    "\\begin{align}\n",
    "\\frac{d\\Gamma}{dt} (0,q_f)^{untag} =\\sum_{q_t=+1,-1} \\frac{1}{2} \\Big\\{&(1-\\varepsilon_{tag,q_t})(1-q_t a_{prod})\\frac{d\\Gamma}{dt} (q_t,q_f) \\Big\\}(1-q_f a_{det})\n",
    "\\end{align}\n",
    "\n",
    "where $q_t$ is the tag decision (+1,0 or -1) while $q_f$ is the final state charge (+1 or -1)."
   ]
  },
  {
   "cell_type": "code",
   "execution_count": 6,
   "metadata": {},
   "outputs": [
    {
     "data": {
      "application/vnd.jupyter.widget-view+json": {
       "model_id": "f3b53dca2dfe473cb842484ea3c1867f",
       "version_major": 2,
       "version_minor": 0
      },
      "text/plain": [
       "HBox(children=(VBox(children=(BoundedFloatText(value=-0.01, description='$a_{prod}$', max=1.0, min=-1.0, step=…"
      ]
     },
     "metadata": {},
     "output_type": "display_data"
    },
    {
     "data": {
      "application/vnd.jupyter.widget-view+json": {
       "model_id": "2836dbf7a5ec4ef39fc258dbd87e5151",
       "version_major": 2,
       "version_minor": 0
      },
      "text/plain": [
       "Output(outputs=({'output_type': 'display_data', 'data': {'text/plain': '<Figure size 2160x720 with 3 Axes>', '…"
      ]
     },
     "metadata": {},
     "output_type": "display_data"
    }
   ],
   "source": [
    "display(wbox_asymm,asymm_pars)"
   ]
  },
  {
   "cell_type": "markdown",
   "metadata": {},
   "source": [
    "# Decay Rate Coefficients\n",
    "\n",
    "The generic probability distribution for the observed differential decay rates can be written as:\n",
    "\n",
    "\\begin{equation}\n",
    "P(t) = A \\cosh\\left(\\frac{\\Delta\\Gamma_s t}{2}\\right) + B\\sinh\\left(\\frac{\\Delta\\Gamma_s t}{2}\\right)\n",
    "+ C\\cos\\left(\\Delta m_s t\\right) + D \\sin\\left(\\Delta m_s t\\right)\n",
    "\\end{equation}\n",
    "\n",
    "The expressions of the observed decay rate coefficients for tagged events therefore become:\n",
    "\n",
    "\\begin{align}\n",
    "A & = \\varepsilon_{tag,q_t}\\Big\\{(1-\\omega_{tag,q_t})(1-q_ta_{prod})+\\omega_{tag,q_t}(1+q_ta_{prod}) \\Big\\} (1-q_fa_{det}) \\\\\n",
    "B & = \\varepsilon_{tag,q_t}\\Big\\{(1-\\omega_{tag,q_t})(1-q_ta_{prod})+\\omega_{tag,q_t}(1+q_ta_{prod}) \\Big\\} (1-q_fa_{det}) \\times A^{\\Delta\\Gamma}_{q_f} \\\\\n",
    "C & = \\varepsilon_{tag,q_t}\\Big\\{(1-\\omega_{tag,q_t})(1-q_ta_{prod})-\\omega_{tag,q_t}(1+q_ta_{prod}) \\Big\\} (1-q_fa_{det}) \\times q_t \\times C_{q_f} \\\\\n",
    "D & = \\varepsilon_{tag,q_t}\\Big\\{(1-\\omega_{tag,q_t})(1-q_ta_{prod})-\\omega_{tag,q_t}(1+q_ta_{prod}) \\Big\\} (1-q_fa_{det}) \\times (-q_t) \\times S_{q_f}\n",
    "\\end{align}\n",
    "\n",
    "While for the untagged decay rates:\n",
    "\n",
    "\\begin{align}\n",
    "A = \\sum_{q_t=+1,-1} \\frac{1}{2}\\Big\\{&(1-\\varepsilon_{tag,q_t})(1-q_t a_{prod}) \\Big\\}(1-q_f a_{det}) \\\\\n",
    "B = \\sum_{q_t=+1,-1} \\frac{1}{2}\\Big\\{&(1-\\varepsilon_{tag,q_t})(1-q_t a_{prod}) \\Big\\}(1-q_f a_{det}) \\times A^{\\Delta\\Gamma}_{q_f}\\\\\n",
    "C = \\sum_{q_t=+1,-1} \\frac{1}{2}\\Big\\{&(1-\\varepsilon_{tag,q_t})(1-q_t a_{prod}) \\Big\\}(1-q_f a_{det}) \\times q_t \\times C_{q_f}\\\\\n",
    "D = \\sum_{q_t=+1,-1} \\frac{1}{2}\\Big\\{&(1-\\varepsilon_{tag,q_t})(1-q_t a_{prod}) \\Big\\}(1-q_f a_{det}) \\times (-q_t) \\times S_{q_f}\\\\\n",
    "\\end{align}"
   ]
  },
  {
   "cell_type": "code",
   "execution_count": 3,
   "metadata": {
    "scrolled": false
   },
   "outputs": [
    {
     "data": {
      "application/vnd.jupyter.widget-view+json": {
       "model_id": "624fa3f174bc41768dfccafe9f5f53bd",
       "version_major": 2,
       "version_minor": 0
      },
      "text/plain": [
       "HBox(children=(VBox(children=(BoundedFloatText(value=0.0, description='$t_{min}$ [ps]', max=20.0, step=1.0), B…"
      ]
     },
     "metadata": {},
     "output_type": "display_data"
    },
    {
     "data": {
      "application/vnd.jupyter.widget-view+json": {
       "model_id": "e161404579a94302934d801800251fe9",
       "version_major": 2,
       "version_minor": 0
      },
      "text/plain": [
       "Output(outputs=({'output_type': 'display_data', 'data': {'text/plain': '<Figure size 2880x720 with 4 Axes>', '…"
      ]
     },
     "metadata": {},
     "output_type": "display_data"
    }
   ],
   "source": [
    "display(wbox_coeffs,coeffs_pars)"
   ]
  },
  {
   "cell_type": "code",
   "execution_count": null,
   "metadata": {},
   "outputs": [],
   "source": []
  },
  {
   "cell_type": "code",
   "execution_count": null,
   "metadata": {},
   "outputs": [],
   "source": []
  }
 ],
 "metadata": {
  "kernelspec": {
   "display_name": "Python 3",
   "language": "python",
   "name": "python3"
  },
  "language_info": {
   "codemirror_mode": {
    "name": "ipython",
    "version": 3
   },
   "file_extension": ".py",
   "mimetype": "text/x-python",
   "name": "python",
   "nbconvert_exporter": "python",
   "pygments_lexer": "ipython3",
   "version": "3.7.6"
  }
 },
 "nbformat": 4,
 "nbformat_minor": 4
}
